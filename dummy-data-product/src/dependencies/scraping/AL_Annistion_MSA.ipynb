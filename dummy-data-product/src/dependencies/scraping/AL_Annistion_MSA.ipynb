{
  "nbformat": 4,
  "nbformat_minor": 0,
  "metadata": {
    "colab": {
      "provenance": [],
      "collapsed_sections": []
    },
    "kernelspec": {
      "name": "python3",
      "display_name": "Python 3"
    },
    "language_info": {
      "name": "python"
    }
  },
  "cells": [
    {
      "cell_type": "code",
      "execution_count": 18,
      "metadata": {
        "id": "eDlkXfH6WHG-"
      },
      "outputs": [],
      "source": [
        "from bs4 import BeautifulSoup\n",
        "import requests\n",
        "import pandas as pd"
      ]
    },
    {
      "cell_type": "code",
      "source": [
        "req = requests.get(\"https://www.bls.gov/regions/southeast/al_anniston_msa.htm#eag\")"
      ],
      "metadata": {
        "id": "Uj7hZZzAWJE_"
      },
      "execution_count": 19,
      "outputs": []
    },
    {
      "cell_type": "code",
      "source": [
        "soup = BeautifulSoup(req.content, \"html.parser\")\n",
        "res = soup.find_all(\"table\", id=\"eag_al_anniston_msa\")\n",
        "df = pd.read_html(str(res))\n",
        "df = df[0]\n",
        "df.to_csv(\"al_anniston_msa.csv\")"
      ],
      "metadata": {
        "id": "a76RvF6WWQEW"
      },
      "execution_count": 32,
      "outputs": []
    },
    {
      "cell_type": "code",
      "source": [],
      "metadata": {
        "id": "aTj6FdxOaFXP"
      },
      "execution_count": null,
      "outputs": []
    }
  ]
}